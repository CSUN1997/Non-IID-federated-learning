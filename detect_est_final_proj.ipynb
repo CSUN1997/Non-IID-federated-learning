{
  "nbformat": 4,
  "nbformat_minor": 0,
  "metadata": {
    "accelerator": "GPU",
    "colab": {
      "name": "detect_est_final_proj.ipynb",
      "provenance": [],
      "collapsed_sections": []
    },
    "kernelspec": {
      "display_name": "Python 3",
      "name": "python3"
    },
    "language_info": {
      "name": "python"
    }
  },
  "cells": [
    {
      "cell_type": "markdown",
      "metadata": {
        "id": "YD7awOZ0IK24"
      },
      "source": [
        "This project follows paper \"[Federated Learning with Non-IID Data](https://arxiv.org/pdf/1806.00582.pdf)\"."
      ]
    },
    {
      "cell_type": "code",
      "metadata": {
        "colab": {
          "base_uri": "https://localhost:8080/"
        },
        "id": "9DjmBO1FeVSy",
        "outputId": "b518ecdd-2e92-4a5a-f2bb-fae0d8244e65"
      },
      "source": [
        "from google.colab import drive\n",
        "drive.mount('/content/gdrive')"
      ],
      "execution_count": null,
      "outputs": [
        {
          "output_type": "stream",
          "text": [
            "Mounted at /content/gdrive\n"
          ],
          "name": "stdout"
        }
      ]
    },
    {
      "cell_type": "code",
      "metadata": {
        "id": "j7NbOrkcfLoT"
      },
      "source": [
        "import numpy as np\n",
        "import torch\n",
        "import torch.nn as nn\n",
        "import torch.optim as optim\n",
        "import torch.nn.functional as F\n",
        "from sklearn.metrics import confusion_matrix\n",
        "import matplotlib.pyplot as plt\n",
        "\n",
        "class CNN(nn.Module):\n",
        "    def __init__(self):\n",
        "        super(CNN, self).__init__()\n",
        "        self.cnn1 = nn.Sequential(\n",
        "            nn.Conv2d(1, 4, 3),\n",
        "            nn.ReLU(),\n",
        "            nn.MaxPool2d(3)\n",
        "        )\n",
        "        self.cnn2 = nn.Sequential(\n",
        "            nn.Conv2d(4, 8, 3),\n",
        "            nn.ReLU(),\n",
        "            nn.MaxPool2d(3)\n",
        "        )\n",
        "        self.fc = nn.Linear(32, 10)\n",
        "\n",
        "    def forward(self, img):\n",
        "        output = self.cnn1(img)\n",
        "        output = self.cnn2(output)\n",
        "        output = self.fc(output.view(output.shape[0], -1))\n",
        "        return F.softmax(output, dim=1)\n",
        "\n",
        "def train(models, datas, optimizers):\n",
        "    for i, (model, data, optimizer) in enumerate(zip(models, datas, optimizers)):\n",
        "        model.train()\n",
        "        n_batches = len(data)\n",
        "        for batch in range(n_batches):\n",
        "            X_train, y_train = data[batch][0], data[batch][1]\n",
        "            y_pred = model(X_train)\n",
        "            # print(X_train.shape, y_train.shape, y_pred.shape)\n",
        "            loss = F.cross_entropy(y_pred, y_train)\n",
        "            optimizer.zero_grad()\n",
        "            loss.backward()\n",
        "            nn.utils.clip_grad_norm_(model.parameters(), 0.1)\n",
        "            optimizer.step()\n",
        "\n",
        "def merge(models):\n",
        "    n_model = len(models)\n",
        "    state_dict = models[0].state_dict().copy()\n",
        "    for key in state_dict:\n",
        "        state_dict[key] = state_dict[key] / n_model\n",
        "    for key in state_dict:\n",
        "        for model in models[1:]:\n",
        "            state_dict[key] = state_dict[key] + model.state_dict()[key] / n_model\n",
        "    for model in models:\n",
        "        model.load_state_dict(state_dict)\n",
        "\n",
        "\n",
        "def fed_step(models, datas, optimizers):\n",
        "    train(models, datas, optimizers)\n",
        "    merge(models)\n",
        "\n",
        "\n",
        "def to_batches(data, batch_size):\n",
        "    batches = []\n",
        "    n_batch = int(len(data) // batch_size)\n",
        "    for i in range(n_batch):\n",
        "        temp = data[i*batch_size:(i+1)*batch_size]\n",
        "        X = [temp[j][0] for j in range(len(temp))]\n",
        "        y = [temp[j][1] for j in range(len(temp))]\n",
        "        X = torch.stack(X).cuda()\n",
        "        y = torch.LongTensor(y).cuda()\n",
        "        batches.append((X, y))\n",
        "    return batches\n",
        "\n",
        "def iid(dataset, batch_size):\n",
        "    #cut to 10 iid datasets\n",
        "    ind = np.arange(len(dataset))\n",
        "    np.random.shuffle(ind)\n",
        "    shuffled = [dataset[int(i)] for i in ind]\n",
        "    data_size = int(len(dataset) // 10)\n",
        "    datas = []\n",
        "    for i in range(10):\n",
        "        d = shuffled[i*data_size:(i+1)*data_size].copy()\n",
        "        datas.append(to_batches(d, batch_size))\n",
        "    return datas\n",
        "\n",
        "def non_iid1(dataset, batch_size):\n",
        "    datas = [[] for _ in range(10)]\n",
        "    for data in dataset:\n",
        "        datas[data[1]].append(data)\n",
        "    for i in range(10):\n",
        "        datas[i] = to_batches(datas[i], batch_size)\n",
        "    return datas\n",
        "\n",
        "def non_iid2(dataset, batch_size):\n",
        "    datas = [[] for _ in range(10)]\n",
        "    ind1 = np.arange(10)\n",
        "    ind2 = np.arange(10)\n",
        "    np.random.shuffle(ind1)\n",
        "    np.random.shuffle(ind2)\n",
        "    count = np.zeros(10)\n",
        "    count_max = len(dataset) / (2 * 10)\n",
        "    for data in dataset:\n",
        "        label = data[1]\n",
        "        if count[label] < count_max:\n",
        "            datas[ind1[label]].append(data)\n",
        "            count[label] += 1\n",
        "        else:\n",
        "            datas[ind2[label]].append(data)\n",
        "    for i in range(10):\n",
        "        datas[i] = to_batches(datas[i], batch_size)\n",
        "    return datas\n",
        "\n",
        "def sgd(dataset, batch_size):\n",
        "    return [to_batches(dataset, batch_size)]\n",
        "\n",
        "def non_iid1_share(dataset, batch_size, alpha=0.2):\n",
        "    datas = [[] for _ in range(10)]\n",
        "    for data in dataset:\n",
        "        datas[data[1]].append(data)\n",
        "    n_share = int(len(datas[0]) * alpha)\n",
        "    shared = []\n",
        "    new_datas = []\n",
        "    for i in range(10):\n",
        "        ind = np.random.choice(len(datas[i]), n_share)\n",
        "        shared.extend([datas[i][j] for j in ind])\n",
        "        new_data = [datas[i][j] for j in range(len(datas[i])) if j not in ind]\n",
        "        new_datas.append(new_data)\n",
        "    \n",
        "    for i in range(10):\n",
        "        new_datas[i].extend(shared)\n",
        "        new_datas[i] = to_batches(new_datas[i], batch_size)\n",
        "    return new_datas\n",
        "\n",
        "def test(model, test_data):\n",
        "    model.eval()\n",
        "    X_test, y_test = test_data\n",
        "    y_pred = model(X_test).detach()\n",
        "    max_ = torch.argmax(y_pred, dim=1).long()\n",
        "    # acc = confusion_matrix(y_test, y_pred)\n",
        "    acc = torch.sum(max_ == y_test) / len(X_test)\n",
        "    return acc\n",
        "\n",
        "def get_weights(model):\n",
        "    weights = {}\n",
        "    for key in model.state_dict():\n",
        "        if 'weight' not in key:\n",
        "            continue\n",
        "        weights[key] = model.state_dict()[key]\n",
        "    return weights"
      ],
      "execution_count": null,
      "outputs": []
    },
    {
      "cell_type": "markdown",
      "metadata": {
        "id": "GgazDgCSIbxC"
      },
      "source": [
        "# 1. Import data and manipulate data"
      ]
    },
    {
      "cell_type": "code",
      "metadata": {
        "id": "oP9ukWsLeHPB"
      },
      "source": [
        "import torchvision.datasets as datasets\n",
        "import torchvision.transforms as transforms\n",
        "transform=transforms.Compose([transforms.ToTensor(),\n",
        "                              transforms.Normalize(0.5, 0.5),\n",
        "                             ])\n",
        "path = '/content/gdrive/MyDrive/courses/DetectionEst/final_proj/data'\n",
        "mnist_trainset = datasets.MNIST(root=path, train=True, download=False, transform=transform)\n",
        "mnist_testset = datasets.MNIST(root=path, train=False, download=False, transform=transform)"
      ],
      "execution_count": null,
      "outputs": []
    },
    {
      "cell_type": "code",
      "metadata": {
        "colab": {
          "background_save": true
        },
        "id": "vdR-dai2e5Yo"
      },
      "source": [
        "data_sgd = sgd(list(mnist_trainset), 100)\n",
        "datas_iid = iid(mnist_trainset, 100)\n",
        "datas_noniid1 = non_iid1(mnist_trainset, 100)\n",
        "datas_noniid2 = non_iid2(mnist_trainset, 100)\n",
        "datas_shared_10 = non_iid1_share(mnist_trainset, 100, 0.1)\n",
        "datas_shared_20 = non_iid1_share(mnist_trainset, 100, 0.2)\n",
        "datas_shared_30 = non_iid1_share(mnist_trainset, 100, 0.3)"
      ],
      "execution_count": null,
      "outputs": []
    },
    {
      "cell_type": "code",
      "metadata": {
        "id": "TtV_RR1mgIBN"
      },
      "source": [
        "X_test = [m[0] for m in mnist_testset]\n",
        "y_test = [m[1] for m in mnist_testset]\n",
        "X_test = torch.stack(X_test).cuda()\n",
        "y_test = torch.FloatTensor(y_test).cuda()"
      ],
      "execution_count": null,
      "outputs": []
    },
    {
      "cell_type": "markdown",
      "metadata": {
        "id": "BH-UqnrPIjLS"
      },
      "source": [
        "# 2. Train IID, Non-IID 1, Non-IID 2 and joint training models"
      ]
    },
    {
      "cell_type": "code",
      "metadata": {
        "colab": {
          "base_uri": "https://localhost:8080/"
        },
        "id": "99OJSPXZitsG",
        "outputId": "f1e56f35-355d-4296-d9ca-1553c014d5f0"
      },
      "source": [
        "model_sgd = [CNN().cuda()]\n",
        "optimizer = [optim.Adam(model.parameters(), lr=0.001) for model in model_sgd]\n",
        "\n",
        "accs_sgd = []\n",
        "for comm_round in range(100):\n",
        "    train(model_sgd, data_sgd, optimizer)\n",
        "    acc = test(model_sgd[0], [X_test, y_test])\n",
        "    accs_sgd.append(acc)\n",
        "    if comm_round % 10 == 0:\n",
        "        print(\"{} rounds, accuracy {}\".format(comm_round, acc))"
      ],
      "execution_count": null,
      "outputs": [
        {
          "output_type": "stream",
          "text": [
            "0 rounds, accuracy 0.7443000078201294\n",
            "10 rounds, accuracy 0.8478999733924866\n",
            "20 rounds, accuracy 0.9299999475479126\n",
            "30 rounds, accuracy 0.9416999816894531\n",
            "40 rounds, accuracy 0.9470999836921692\n",
            "50 rounds, accuracy 0.9496999979019165\n",
            "60 rounds, accuracy 0.9502999782562256\n",
            "70 rounds, accuracy 0.9484999775886536\n",
            "80 rounds, accuracy 0.9519999623298645\n",
            "90 rounds, accuracy 0.9521999955177307\n"
          ],
          "name": "stdout"
        }
      ]
    },
    {
      "cell_type": "code",
      "metadata": {
        "colab": {
          "base_uri": "https://localhost:8080/"
        },
        "id": "FaHKciCD8r3t",
        "outputId": "7f6b2d62-0ffb-4ae8-930e-a1678702d5a0"
      },
      "source": [
        "models_iid = [CNN().cuda() for _ in range(10)]\n",
        "optimizers_iid = [optim.Adam(model.parameters(), lr=0.001) for model in models_iid]\n",
        "\n",
        "accs_iid = []\n",
        "for comm_round in range(100):\n",
        "    fed_step(models_iid, datas_iid, optimizers_iid)\n",
        "    acc = test(models_iid[0], [X_test, y_test])\n",
        "    accs_iid.append(acc)\n",
        "    if comm_round % 10 == 0:\n",
        "        print(\"{} rounds, accuracy {}\".format(comm_round, acc))"
      ],
      "execution_count": null,
      "outputs": [
        {
          "output_type": "stream",
          "text": [
            "0 rounds, accuracy 0.11219999939203262\n",
            "10 rounds, accuracy 0.6643999814987183\n",
            "20 rounds, accuracy 0.6825999617576599\n",
            "30 rounds, accuracy 0.6887999773025513\n",
            "40 rounds, accuracy 0.6923999786376953\n",
            "50 rounds, accuracy 0.6935999989509583\n",
            "60 rounds, accuracy 0.7720999717712402\n",
            "70 rounds, accuracy 0.7789999842643738\n",
            "80 rounds, accuracy 0.7809999585151672\n",
            "90 rounds, accuracy 0.7831000089645386\n"
          ],
          "name": "stdout"
        }
      ]
    },
    {
      "cell_type": "code",
      "metadata": {
        "colab": {
          "base_uri": "https://localhost:8080/"
        },
        "id": "BxgyIWjBDI7u",
        "outputId": "afb61ab9-a41c-4734-d800-cddf45f645c7"
      },
      "source": [
        "models_noniid1 = [CNN().cuda() for _ in range(10)]\n",
        "optimizers_noniid1 = [optim.Adam(model.parameters(), lr=0.001) for model in models_noniid1]\n",
        "\n",
        "accs_noniid1 = []\n",
        "for comm_round in range(100):\n",
        "    fed_step(models_noniid1, datas_noniid1, optimizers_noniid1)\n",
        "    acc = test(models_noniid1[0], [X_test, y_test])\n",
        "    accs_noniid1.append(acc)\n",
        "    if comm_round % 10 == 0:\n",
        "        print(\"{} rounds, accuracy {}\".format(comm_round, acc))"
      ],
      "execution_count": null,
      "outputs": [
        {
          "output_type": "stream",
          "text": [
            "0 rounds, accuracy 0.10089999437332153\n",
            "10 rounds, accuracy 0.1290999948978424\n",
            "20 rounds, accuracy 0.11309999972581863\n",
            "30 rounds, accuracy 0.10759999603033066\n",
            "40 rounds, accuracy 0.0997999981045723\n",
            "50 rounds, accuracy 0.09989999979734421\n",
            "60 rounds, accuracy 0.10529999434947968\n",
            "70 rounds, accuracy 0.10319999605417252\n",
            "80 rounds, accuracy 0.10319999605417252\n",
            "90 rounds, accuracy 0.10610000044107437\n"
          ],
          "name": "stdout"
        }
      ]
    },
    {
      "cell_type": "code",
      "metadata": {
        "colab": {
          "base_uri": "https://localhost:8080/"
        },
        "id": "nhelVSz2PmnF",
        "outputId": "77a87996-299c-4ba3-93d2-adea2147ce10"
      },
      "source": [
        "models_noniid2 = [CNN().cuda() for _ in range(10)]\n",
        "optimizers_noniid2 = [optim.Adam(model.parameters(), lr=0.001) for model in models_noniid2]\n",
        "\n",
        "accs_noniid2 = []\n",
        "for comm_round in range(100):\n",
        "    fed_step(models_noniid2, datas_noniid2, optimizers_noniid2)\n",
        "    acc = test(models_noniid2[0], [X_test, y_test])\n",
        "    accs_noniid2.append(acc)\n",
        "    if comm_round % 10 == 0:\n",
        "        print(\"{} rounds, accuracy {}\".format(comm_round, acc))"
      ],
      "execution_count": null,
      "outputs": [
        {
          "output_type": "stream",
          "text": [
            "0 rounds, accuracy 0.0989999994635582\n",
            "10 rounds, accuracy 0.11299999803304672\n",
            "20 rounds, accuracy 0.12370000034570694\n",
            "30 rounds, accuracy 0.14649999141693115\n",
            "40 rounds, accuracy 0.17170000076293945\n",
            "50 rounds, accuracy 0.25279998779296875\n",
            "60 rounds, accuracy 0.33719998598098755\n",
            "70 rounds, accuracy 0.421999990940094\n",
            "80 rounds, accuracy 0.505899965763092\n",
            "90 rounds, accuracy 0.5403000116348267\n"
          ],
          "name": "stdout"
        }
      ]
    },
    {
      "cell_type": "markdown",
      "metadata": {
        "id": "vERAufkFIs9Z"
      },
      "source": [
        "# 3. Train models with data sharing"
      ]
    },
    {
      "cell_type": "code",
      "metadata": {
        "colab": {
          "base_uri": "https://localhost:8080/"
        },
        "id": "RyL81sqw3fgJ",
        "outputId": "448edae8-0653-44bc-ddcb-96812d6954a3"
      },
      "source": [
        "models_shared = [CNN().cuda() for _ in range(10)]\n",
        "optimizers_shared = [optim.Adam(model.parameters(), lr=0.001) for model in models_shared]\n",
        "\n",
        "accs_shared = []\n",
        "for comm_round in range(100):\n",
        "    fed_step(models_shared, datas_shared, optimizers_shared)\n",
        "    acc = test(models_shared[0], [X_test, y_test])\n",
        "    accs_shared.append(acc)\n",
        "    if comm_round % 10 == 0:\n",
        "        print(\"{} rounds, accuracy {}\".format(comm_round, acc))"
      ],
      "execution_count": null,
      "outputs": [
        {
          "output_type": "stream",
          "text": [
            "0 rounds, accuracy 0.0973999947309494\n",
            "10 rounds, accuracy 0.10279999673366547\n",
            "20 rounds, accuracy 0.13939999043941498\n",
            "30 rounds, accuracy 0.15680000185966492\n",
            "40 rounds, accuracy 0.1850999891757965\n",
            "50 rounds, accuracy 0.1972000002861023\n",
            "60 rounds, accuracy 0.19749999046325684\n",
            "70 rounds, accuracy 0.1875\n",
            "80 rounds, accuracy 0.19249999523162842\n",
            "90 rounds, accuracy 0.28139999508857727\n"
          ],
          "name": "stdout"
        }
      ]
    },
    {
      "cell_type": "code",
      "metadata": {
        "colab": {
          "base_uri": "https://localhost:8080/"
        },
        "id": "FKFD8P9q_bi_",
        "outputId": "f38150f3-0624-473b-e9c1-f90484110ad0"
      },
      "source": [
        "models_shared_20 = [CNN().cuda() for _ in range(10)]\n",
        "optimizers_shared_20 = [optim.Adam(model.parameters(), lr=0.001) for model in models_shared_20]\n",
        "\n",
        "accs_shared_20 = []\n",
        "for comm_round in range(100):\n",
        "    fed_step(models_shared_20, datas_shared_20, optimizers_shared_20)\n",
        "    acc = test(models_shared_20[0], [X_test, y_test])\n",
        "    accs_shared_20.append(acc)\n",
        "    if comm_round % 10 == 0:\n",
        "        print(\"{} rounds, accuracy {}\".format(comm_round, acc))"
      ],
      "execution_count": null,
      "outputs": [
        {
          "output_type": "stream",
          "text": [
            "0 rounds, accuracy 0.10279999673366547\n",
            "10 rounds, accuracy 0.10279999673366547\n",
            "20 rounds, accuracy 0.48319998383522034\n",
            "30 rounds, accuracy 0.6912999749183655\n",
            "40 rounds, accuracy 0.7594000101089478\n",
            "50 rounds, accuracy 0.8229999542236328\n",
            "60 rounds, accuracy 0.8575999736785889\n",
            "70 rounds, accuracy 0.8748999834060669\n",
            "80 rounds, accuracy 0.8866999745368958\n",
            "90 rounds, accuracy 0.8925999999046326\n"
          ],
          "name": "stdout"
        }
      ]
    },
    {
      "cell_type": "code",
      "metadata": {
        "colab": {
          "base_uri": "https://localhost:8080/"
        },
        "id": "pjCclqy8FR5L",
        "outputId": "0ca41cdd-12c9-4afe-9d3c-d3c8aa7d267a"
      },
      "source": [
        "models_shared_30 = [CNN().cuda() for _ in range(10)]\n",
        "optimizers_shared_30 = [optim.Adam(model.parameters(), lr=0.001) for model in models_shared_30]\n",
        "\n",
        "accs_shared_30 = []\n",
        "for comm_round in range(100):\n",
        "    fed_step(models_shared_30, datas_shared_30, optimizers_shared_30)\n",
        "    acc = test(models_shared_30[0], [X_test, y_test])\n",
        "    accs_shared_30.append(acc)\n",
        "    if comm_round % 10 == 0:\n",
        "        print(\"{} rounds, accuracy {}\".format(comm_round, acc))"
      ],
      "execution_count": null,
      "outputs": [
        {
          "output_type": "stream",
          "text": [
            "0 rounds, accuracy 0.08919999748468399\n",
            "10 rounds, accuracy 0.10279999673366547\n",
            "20 rounds, accuracy 0.11349999904632568\n",
            "30 rounds, accuracy 0.0982000008225441\n",
            "40 rounds, accuracy 0.16459999978542328\n",
            "50 rounds, accuracy 0.40539997816085815\n",
            "60 rounds, accuracy 0.5956999659538269\n",
            "70 rounds, accuracy 0.6640999913215637\n",
            "80 rounds, accuracy 0.7135999798774719\n",
            "90 rounds, accuracy 0.7441999912261963\n"
          ],
          "name": "stdout"
        }
      ]
    },
    {
      "cell_type": "markdown",
      "metadata": {
        "id": "CESVGf4XIy5_"
      },
      "source": [
        "# 4. Plot"
      ]
    },
    {
      "cell_type": "code",
      "metadata": {
        "colab": {
          "base_uri": "https://localhost:8080/",
          "height": 286
        },
        "id": "p4uio1_8BK45",
        "outputId": "b331e5b8-168f-44c7-9736-b7a4839d4d2a"
      },
      "source": [
        "plt.grid('on')\n",
        "plt.plot(accs_iid)\n",
        "plt.plot(accs_noniid1)\n",
        "plt.plot(accs_noniid2)\n",
        "plt.plot(accs_sgd)\n",
        "plt.legend(['IID', 'Non-IID type1', 'Non-IID type2', 'SGD'], fontsize=13)\n",
        "plt.xlabel('Communication Rounds', fontsize=13)\n",
        "plt.ylabel('Test Accuracy', fontsize=13)\n",
        "plt.ylim([0, 1])\n",
        "plt.savefig('/content/gdrive/MyDrive/courses/DetectionEst/final_proj/result.pdf', dpi=300, quality=95)"
      ],
      "execution_count": null,
      "outputs": [
        {
          "output_type": "display_data",
          "data": {
            "image/png": "[encoded data removed]",
            "text/plain": [
              "<Figure size 432x288 with 1 Axes>"
            ]
          },
          "metadata": {
            "tags": []
          }
        }
      ]
    },
    {
      "cell_type": "code",
      "metadata": {
        "id": "lGrIG60Lt_Wo"
      },
      "source": [
        "weights_sgd = get_weights(model_sgd[0])\n",
        "weights_iid = get_weights(models_iid[0])\n",
        "weights_noniid1 = get_weights(models_noniid1[0])\n",
        "weights_noniid2 = get_weights(models_noniid2[0])\n",
        "result_iid = []\n",
        "result_noniid1 = []\n",
        "result_noniid2 = []\n",
        "for key in weights_iid.keys():\n",
        "    result_iid.append(torch.linalg.norm(weights_iid[key] - weights_sgd[key]))\n",
        "    result_noniid1.append(torch.linalg.norm(weights_noniid1[key] - weights_sgd[key]))\n",
        "    result_noniid2.append(torch.linalg.norm(weights_noniid2[key] - weights_sgd[key]))"
      ],
      "execution_count": null,
      "outputs": []
    },
    {
      "cell_type": "code",
      "metadata": {
        "colab": {
          "base_uri": "https://localhost:8080/",
          "height": 268
        },
        "id": "K650Y7STN8PS",
        "outputId": "fc17bf72-a481-4372-fe61-9e3a944a1c9e"
      },
      "source": [
        "labels = list(weights_sgd.keys())\n",
        "\n",
        "x = np.arange(len(labels))  # the label locations\n",
        "width = 0.25  # the width of the bars\n",
        "\n",
        "# fig, ax = plt.subplots()\n",
        "# rects1 = ax.bar(x - width/2, men_means, width, label='Men')\n",
        "# rects2 = ax.bar(x + width/2, women_means, width, label='Women')\n",
        "plt.bar(x-width, result_iid, width, label='IID')\n",
        "plt.bar(x, result_noniid1, width, label='Non-IID type1')\n",
        "plt.bar(x+width, result_noniid2, width, label='Non-IID type2')\n",
        "plt.ylabel(\"Weight Divergence\", fontsize=13)\n",
        "plt.xticks(x, [\"conv-1\", \"conv-2\", \"fc\"], fontsize=13)\n",
        "plt.legend(fontsize=13)\n",
        "\n",
        "plt.savefig('/content/gdrive/MyDrive/courses/DetectionEst/final_proj/weight_divergence.pdf', dpi=300, quality=95)"
      ],
      "execution_count": null,
      "outputs": [
        {
          "output_type": "display_data",
          "data": {
            "image/png": "[encoded data removed]",
            "text/plain": [
              "<Figure size 432x288 with 1 Axes>"
            ]
          },
          "metadata": {
            "tags": []
          }
        }
      ]
    },
    {
      "cell_type": "code",
      "metadata": {
        "colab": {
          "base_uri": "https://localhost:8080/",
          "height": 282
        },
        "id": "WudQ_5QIpmFG",
        "outputId": "3d66c9fb-96f2-430c-aba2-daeafcf7a793"
      },
      "source": [
        "plt.grid('on')\n",
        "plt.plot(accs_noniid1)\n",
        "plt.plot(accs_shared)\n",
        "plt.plot(accs_shared_20)\n",
        "plt.legend(['alpha=0%', 'alpha=10%', 'alpha=20%'], fontsize=13)\n",
        "plt.xlabel('Communication Rounds', fontsize=13)\n",
        "plt.ylabel('Test Accuracy', fontsize=13)\n",
        "plt.savefig('/content/gdrive/MyDrive/courses/DetectionEst/final_proj/share.pdf', dpi=300, quality=95)"
      ],
      "execution_count": null,
      "outputs": [
        {
          "output_type": "display_data",
          "data": {
            "image/png": "[encoded data removed]",
            "text/plain": [
              "<Figure size 432x288 with 1 Axes>"
            ]
          },
          "metadata": {
            "tags": []
          }
        }
      ]
    },
    {
      "cell_type": "code",
      "metadata": {
        "id": "KIgVx6NB117M"
      },
      "source": [
        ""
      ],
      "execution_count": null,
      "outputs": []
    },
    {
      "cell_type": "code",
      "metadata": {
        "id": "CQMomz072VgP"
      },
      "source": [
        ""
      ],
      "execution_count": null,
      "outputs": []
    }
  ]
}